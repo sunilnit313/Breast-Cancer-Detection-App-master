{
  "nbformat": 4,
  "nbformat_minor": 0,
  "metadata": {
    "colab": {
      "provenance": [],
      "authorship_tag": "ABX9TyPrIB9D4tJwnWwvut8DtBvH",
      "include_colab_link": true
    },
    "kernelspec": {
      "name": "python3",
      "display_name": "Python 3"
    }
  },
  "cells": [
    {
      "cell_type": "markdown",
      "metadata": {
        "id": "view-in-github",
        "colab_type": "text"
      },
      "source": [
        "<a href=\"https://colab.research.google.com/github/sunilnit313/Breast-Cancer-Detection-App-master/blob/main/Diffie_HellmanMethod.ipynb\" target=\"_parent\"><img src=\"https://colab.research.google.com/assets/colab-badge.svg\" alt=\"Open In Colab\"/></a>"
      ]
    },
    {
      "cell_type": "code",
      "metadata": {
        "id": "Sa5JWwWrySdX"
      },
      "source": [
        "import math\n",
        "import random"
      ],
      "execution_count": 1,
      "outputs": []
    },
    {
      "cell_type": "code",
      "metadata": {
        "colab": {
          "base_uri": "https://localhost:8080/"
        },
        "id": "FvaJcXHKyWO_",
        "outputId": "75d7c3a3-6947-4e1e-c58a-1c624236aa35"
      },
      "source": [
        "P = int(input('Enter the value of P.'))\n",
        "g = int(input('Enter the value of g.'))"
      ],
      "execution_count": 2,
      "outputs": [
        {
          "name": "stdout",
          "output_type": "stream",
          "text": [
            "Enter the value of P.4\n",
            "Enter the value of g.6\n"
          ]
        }
      ]
    },
    {
      "cell_type": "code",
      "metadata": {
        "colab": {
          "base_uri": "https://localhost:8080/",
          "height": 252
        },
        "id": "M0Nsaws7yhtW",
        "outputId": "bb352b52-40d0-4bde-cb84-e39cd6c7b739"
      },
      "source": [
        "a = int(input(' \\n Enter the value of a.'))\n",
        "b = int(input(' Enter the value of b.'))\n",
        "c = int(input(' \\n Enter the value of c.'))\n"
      ],
      "execution_count": 3,
      "outputs": [
        {
          "name": "stdout",
          "output_type": "stream",
          "text": [
            " \n",
            " Enter the value of a.6\n",
            " Enter the value of b.\n"
          ]
        },
        {
          "output_type": "error",
          "ename": "ValueError",
          "evalue": "ignored",
          "traceback": [
            "\u001b[0;31m---------------------------------------------------------------------------\u001b[0m",
            "\u001b[0;31mValueError\u001b[0m                                Traceback (most recent call last)",
            "\u001b[0;32m<ipython-input-3-54cc8f573328>\u001b[0m in \u001b[0;36m<module>\u001b[0;34m\u001b[0m\n\u001b[1;32m      1\u001b[0m \u001b[0ma\u001b[0m \u001b[0;34m=\u001b[0m \u001b[0mint\u001b[0m\u001b[0;34m(\u001b[0m\u001b[0minput\u001b[0m\u001b[0;34m(\u001b[0m\u001b[0;34m' \\n Enter the value of a.'\u001b[0m\u001b[0;34m)\u001b[0m\u001b[0;34m)\u001b[0m\u001b[0;34m\u001b[0m\u001b[0;34m\u001b[0m\u001b[0m\n\u001b[0;32m----> 2\u001b[0;31m \u001b[0mb\u001b[0m \u001b[0;34m=\u001b[0m \u001b[0mint\u001b[0m\u001b[0;34m(\u001b[0m\u001b[0minput\u001b[0m\u001b[0;34m(\u001b[0m\u001b[0;34m' Enter the value of b.'\u001b[0m\u001b[0;34m)\u001b[0m\u001b[0;34m)\u001b[0m\u001b[0;34m\u001b[0m\u001b[0;34m\u001b[0m\u001b[0m\n\u001b[0m\u001b[1;32m      3\u001b[0m \u001b[0mc\u001b[0m \u001b[0;34m=\u001b[0m \u001b[0mint\u001b[0m\u001b[0;34m(\u001b[0m\u001b[0minput\u001b[0m\u001b[0;34m(\u001b[0m\u001b[0;34m' \\n Enter the value of c.'\u001b[0m\u001b[0;34m)\u001b[0m\u001b[0;34m)\u001b[0m\u001b[0;34m\u001b[0m\u001b[0;34m\u001b[0m\u001b[0m\n",
            "\u001b[0;31mValueError\u001b[0m: invalid literal for int() with base 10: ''"
          ]
        }
      ]
    },
    {
      "cell_type": "code",
      "metadata": {
        "id": "q8sjzD6pyvrn"
      },
      "source": [
        "A = (g**a) % P\n",
        "print( \"\\n  A1 sends over to B2: \" , A )\n",
        " \n",
        "# B2 Sends A1 B = g^b mod P\n",
        "B = (g ** b) % P\n",
        "print( \"  B2 sends over to C2: \" , B )\n",
        "C = (g**c) % P\n",
        "print( \"\\n  C2 sends over to A1: \" , C )\n",
        " "
      ],
      "execution_count": null,
      "outputs": []
    },
    {
      "cell_type": "code",
      "metadata": {
        "id": "URKDREE87ik8"
      },
      "source": [
        "# A1 computes the Shared Secret: S_A1 = B^a mod P\n",
        "A1SharedSecret = (B ** a) % P\n",
        "print( \"    \\n  A1 Shared Secret: \", A1SharedSecret )\n",
        " \n",
        "# B2 computes the Shared Secret: S_B2 = C^b mod P\n",
        "B2SharedSecret = (C**b) % P\n",
        "print( \"  B2 Shared Secret: \", B2SharedSecret )\n",
        "# C2 computes the Shared Secret: S_C2 = A^c mod P\n",
        "C2SharedSecret = (A**c) % P\n",
        "print( \"  C2 Shared Secret: \", C2SharedSecret )"
      ],
      "execution_count": null,
      "outputs": []
    },
    {
      "cell_type": "code",
      "metadata": {
        "id": "psdKtBrQ8O-n"
      },
      "source": [],
      "execution_count": null,
      "outputs": []
    }
  ]
}